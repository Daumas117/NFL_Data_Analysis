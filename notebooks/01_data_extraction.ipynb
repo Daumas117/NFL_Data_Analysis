{
 "cells": [
  {
   "cell_type": "code",
   "execution_count": 1,
   "id": "348612cb",
   "metadata": {},
   "outputs": [
    {
     "ename": "IndexError",
     "evalue": "list index out of range",
     "output_type": "error",
     "traceback": [
      "\u001b[31m---------------------------------------------------------------------------\u001b[39m",
      "\u001b[31mIndexError\u001b[39m                                Traceback (most recent call last)",
      "\u001b[36mCell\u001b[39m\u001b[36m \u001b[39m\u001b[32mIn[1]\u001b[39m\u001b[32m, line 14\u001b[39m\n\u001b[32m     10\u001b[39m \u001b[38;5;66;03m# -----------------------------\u001b[39;00m\n\u001b[32m     11\u001b[39m \u001b[38;5;66;03m# 🔹 2. Cargar archivo Parquet\u001b[39;00m\n\u001b[32m     12\u001b[39m \u001b[38;5;66;03m# -----------------------------\u001b[39;00m\n\u001b[32m     13\u001b[39m DATA_DIR = Path(\u001b[33m\"\u001b[39m\u001b[33m../data/raw\u001b[39m\u001b[33m\"\u001b[39m)\n\u001b[32m---> \u001b[39m\u001b[32m14\u001b[39m file_path = \u001b[38;5;28;43mlist\u001b[39;49m\u001b[43m(\u001b[49m\u001b[43mDATA_DIR\u001b[49m\u001b[43m.\u001b[49m\u001b[43mglob\u001b[49m\u001b[43m(\u001b[49m\u001b[33;43m\"\u001b[39;49m\u001b[33;43mweekly_*.parquet\u001b[39;49m\u001b[33;43m\"\u001b[39;49m\u001b[43m)\u001b[49m\u001b[43m)\u001b[49m\u001b[43m[\u001b[49m\u001b[32;43m0\u001b[39;49m\u001b[43m]\u001b[49m  \u001b[38;5;66;03m# Carga el primer archivo disponible\u001b[39;00m\n\u001b[32m     16\u001b[39m \u001b[38;5;28mprint\u001b[39m(\u001b[33mf\u001b[39m\u001b[33m\"\u001b[39m\u001b[33mCargando archivo: \u001b[39m\u001b[38;5;132;01m{\u001b[39;00mfile_path\u001b[38;5;132;01m}\u001b[39;00m\u001b[33m\"\u001b[39m)\n\u001b[32m     17\u001b[39m df = pl.read_parquet(file_path)\n",
      "\u001b[31mIndexError\u001b[39m: list index out of range"
     ]
    }
   ],
   "source": [
    "# 01_data_extraction.ipynb\n",
    "\n",
    "# -----------------------------\n",
    "# 🔹 1. Importar librerías\n",
    "# -----------------------------\n",
    "import polars as pl\n",
    "from pathlib import Path\n",
    "import matplotlib.pyplot as plt\n",
    "\n",
    "# -----------------------------\n",
    "# 🔹 2. Cargar archivo Parquet\n",
    "# -----------------------------\n",
    "DATA_DIR = Path(\"../data/raw\")\n",
    "file_path = list(DATA_DIR.glob(\"weekly_*.parquet\"))[0]  # Carga el primer archivo disponible\n",
    "\n",
    "print(f\"Cargando archivo: {file_path}\")\n",
    "df = pl.read_parquet(file_path)\n",
    "\n",
    "# Mostrar estructura\n",
    "print(\"Dimensiones:\", df.shape)\n",
    "print(\"Columnas disponibles:\", df.columns[:10], \"...\")\n",
    "df.head(5)\n"
   ]
  },
  {
   "cell_type": "code",
   "execution_count": null,
   "id": "0d792000",
   "metadata": {},
   "outputs": [],
   "source": [
    "# -----------------------------\n",
    "# 🔹 3. Información general\n",
    "# -----------------------------\n",
    "print(df.describe())\n",
    "\n",
    "# Ver equipos únicos\n",
    "print(\"\\nEquipos únicos (field_team):\")\n",
    "print(df[\"field_team\"].unique().to_list())\n",
    "\n",
    "# Ver jugadores únicos\n",
    "print(\"\\nNúmero de jugadores registrados:\")\n",
    "print(df[\"player_id\"].n_unique())\n"
   ]
  },
  {
   "cell_type": "code",
   "execution_count": null,
   "id": "42873ccc",
   "metadata": {},
   "outputs": [],
   "source": [
    "# -----------------------------\n",
    "# 🔹 4. Ejemplo: estadísticas de un jugador\n",
    "# -----------------------------\n",
    "# Filtrar un jugador al azar\n",
    "sample_player = df.select(\"player_display_name\").sample(1).to_series()[0]\n",
    "print(f\"Mostrando registros del jugador: {sample_player}\")\n",
    "\n",
    "player_df = df.filter(pl.col(\"player_display_name\") == sample_player)\n",
    "player_df.select([\n",
    "    \"season\", \"week\", \"player_display_name\", \"recent_team\",\n",
    "    \"position\", \"passing_yards\", \"rushing_yards\", \"receiving_yards\"\n",
    "]).head(10)\n"
   ]
  },
  {
   "cell_type": "code",
   "execution_count": null,
   "id": "12d20faa",
   "metadata": {},
   "outputs": [],
   "source": [
    "# -----------------------------\n",
    "# 🔹 5. Visualización rápida\n",
    "# -----------------------------\n",
    "# Ejemplo: Yardas aéreas promedio por semana\n",
    "\n",
    "yardas = (\n",
    "    df.group_by(\"week\")\n",
    "    .agg(pl.col(\"passing_yards\").mean().alias(\"avg_passing_yards\"))\n",
    "    .sort(\"week\")\n",
    ")\n",
    "\n",
    "plt.figure(figsize=(10,5))\n",
    "plt.plot(yardas[\"week\"], yardas[\"avg_passing_yards\"], marker=\"o\")\n",
    "plt.title(\"Promedio de yardas de pase por semana\")\n",
    "plt.xlabel(\"Semana\")\n",
    "plt.ylabel(\"Yardas promedio\")\n",
    "plt.grid(True)\n",
    "plt.show()\n"
   ]
  }
 ],
 "metadata": {
  "kernelspec": {
   "display_name": "Python 3",
   "language": "python",
   "name": "python3"
  },
  "language_info": {
   "codemirror_mode": {
    "name": "ipython",
    "version": 3
   },
   "file_extension": ".py",
   "mimetype": "text/x-python",
   "name": "python",
   "nbconvert_exporter": "python",
   "pygments_lexer": "ipython3",
   "version": "3.13.6"
  }
 },
 "nbformat": 4,
 "nbformat_minor": 5
}
